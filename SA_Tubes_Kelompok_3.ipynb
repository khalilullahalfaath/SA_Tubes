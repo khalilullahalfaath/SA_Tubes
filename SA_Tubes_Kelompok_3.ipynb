{
  "nbformat": 4,
  "nbformat_minor": 0,
  "metadata": {
    "colab": {
      "name": "SA_Tubes_Kelompok 3.ipynb",
      "provenance": [],
      "collapsed_sections": [],
      "include_colab_link": true
    },
    "kernelspec": {
      "name": "python3",
      "display_name": "Python 3"
    },
    "language_info": {
      "name": "python"
    }
  },
  "cells": [
    {
      "cell_type": "markdown",
      "metadata": {
        "id": "view-in-github",
        "colab_type": "text"
      },
      "source": [
        "<a href=\"https://colab.research.google.com/github/khalilullahalfaath/SA_Tubes/blob/main/SA_Tubes_Kelompok_3.ipynb\" target=\"_parent\"><img src=\"https://colab.research.google.com/assets/colab-badge.svg\" alt=\"Open In Colab\"/></a>"
      ]
    },
    {
      "cell_type": "markdown",
      "source": [
        "#Kelompok Stigma (3)\n",
        "#Nama Judul: Route Pathing Tempat Wisata di Kota Bandung, Kabupaten Bandung Barat dengan Algoritma Branch and Bound\n",
        "* Khalillullah Al Faath (1301204376)\n",
        "* Naufal Abdurrahman Burhani (1301204008)\n",
        "* Ariqo Sukma Bahamis Ali (1301200361)"
      ],
      "metadata": {
        "id": "IBS4iXQHsxEN"
      }
    },
    {
      "cell_type": "markdown",
      "source": [
        "#Lokasi Wisata di Bandung\n",
        "1. Trans Studio Bandung (Cibangkong, Batununggal)\n",
        "2. Dago Dream Park (Mekarwangi, Pagerwangi)\n",
        "3. Floating Market Lembang (Kabupaten Bandung Barat)\n",
        "4. Upside Down World Bandung (Lebakgede, Coblong)\n",
        "5. Museum Geologi Bandung (Cihaur Geulis, Kec. Cibeunying Kaler)\n",
        "6. Bukit Moko\n",
        "7. Taman Balai Kota Bandung (Kota Bandung)\n",
        "8. The Great Asia Afrika (Gudangkahuripan, Lembang, Kabupaten Bandung Barat)\n",
        "9. Jalan Braga (Kota Bandung)"
      ],
      "metadata": {
        "id": "N7DCylzrtNwr"
      }
    },
    {
      "cell_type": "code",
      "execution_count": null,
      "metadata": {
        "id": "77zSEGw-sTfK"
      },
      "outputs": [],
      "source": [
        ""
      ]
    }
  ]
}